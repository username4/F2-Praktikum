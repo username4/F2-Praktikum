{
 "metadata": {
  "name": "",
  "signature": "sha256:c620983de06fb4fc712f706ea58107f5108edc293ab0294d085ced081052f4ad"
 },
 "nbformat": 3,
 "nbformat_minor": 0,
 "worksheets": [
  {
   "cells": [
    {
     "cell_type": "code",
     "collapsed": false,
     "input": [
      "import numpy as np\n",
      "import matplotlib.pyplot as plt\n",
      "import scipy.optimize"
     ],
     "language": "python",
     "metadata": {},
     "outputs": [],
     "prompt_number": ""
    },
    {
     "cell_type": "code",
     "collapsed": false,
     "input": [
      "# Einheiten, benutze SI\n",
      "tesla = 1.0\n",
      "G = 1e-4\n",
      "K = 1\n",
      "A = 1.0\n",
      "mA = 1e-3*A\n",
      "m = 1.0\n",
      "cm = 0.01*m\n",
      "mm = 1e-3*m\n",
      "kg = 1.0\n",
      "g = 1e-3*kg\n",
      "V = 1\n",
      "mV = 1.e-3\n",
      "\n",
      "# physikalische Konstanten\n",
      "mu0 = 4*np.pi*1e-7\n",
      "\n",
      "# Konstanten des Versuchs\n",
      "T_N = 77.15*K\n",
      "\n",
      "sigmas_ni = 55.09* A*m**2/kg # saettigungsmagnetisierung von Nickel\n",
      "m_ni = 0.0202*g # Masse der Nickelprobe\n",
      "mu_ni = m_ni*sigmas_ni # Magnetisches Moment der Nickelprobe in A*m^2\n",
      "print \"Magnetisches Moment der Nickelprobe in A*m^2: \", mu_ni"
     ],
     "language": "python",
     "metadata": {},
     "outputs": [],
     "prompt_number": ""
    },
    {
     "cell_type": "code",
     "collapsed": false,
     "input": [
      "# fitfunktionen\n",
      "def linfkt(x, m, b): return m*x+b"
     ],
     "language": "python",
     "metadata": {},
     "outputs": [],
     "prompt_number": ""
    },
    {
     "cell_type": "code",
     "collapsed": false,
     "input": [
      "# Funktionen fuer den Versuch\n",
      "# bitte darauf achten, das Funktionsargumente in SI-Einheiten angegeben werden\n",
      "\n",
      "# Magnetfeld des Elektromagneten in Tesla, in Abhaengikeit des Spulenstroms in Ampere\n",
      "def B_elektro(I): \n",
      "    return (0.9846 * I/mA + 2.059)*G\n",
      "\n",
      "def B_nickel(I,x):\n",
      "    return mu0*mu_ni/(2*np.pi*np.power(np.abs(x),3))\n",
      "\n",
      "# Magnetfeld des SQUIDs in Tesla nach dem Biot-Savartschen Gesetz\n",
      "def B_spule(I,x):\n",
      "    mu0 = 4*np.pi*1e-7\n",
      "    R = 0.35*cm\n",
      "    return mu0 * I * np.power(R,2) / (2 * np.power(np.abs(x),3))\n",
      "# Beispiel zur Anwendung: B_elektro(1./mA), B_sq(2/mA*3./cm)"
     ],
     "language": "python",
     "metadata": {},
     "outputs": [],
     "prompt_number": ""
    },
    {
     "cell_type": "code",
     "collapsed": false,
     "input": [
      "# 1 Kalibrierung\n",
      "# 1a) mit Kalibrierungsspule\n",
      "plt.figure(1, [9,6])\n",
      "I = np.array([0,40,80,119,180,209,235,315,360,147])*mA\n",
      "B = B_spule(I,1.3*cm)\n",
      "U = np.array([0.019,0.027,0.029,0.042,0.052,0.04,0.065,0.058,0.066,0.042])*V\n",
      "popt, pcov = scipy.optimize.curve_fit(linfkt, B/G, U)\n",
      "print \"U[V] / B[Gauss] = {0} +- {1}\".format(popt[0], pcov[0,0])\n",
      "plt.plot(B/G, linfkt(B/G, popt[0], popt[1]))\n",
      "plt.plot(B/G,U,\"bo\")"
     ],
     "language": "python",
     "metadata": {},
     "outputs": [],
     "prompt_number": ""
    },
    {
     "cell_type": "code",
     "collapsed": false,
     "input": [
      "#1b) mit der Nickelprobe\n",
      "V_ni = 5*5*0.1*mm**3\n",
      "M_ni = V_ni*mu_ni\n",
      "M_ni\n",
      "# maximaler Spulenstrom, reicht nicht ganz zur Saettigung: I_spule = 1.168 A"
     ],
     "language": "python",
     "metadata": {},
     "outputs": [],
     "prompt_number": ""
    },
    {
     "cell_type": "code",
     "collapsed": false,
     "input": [
      "# geometrie 1: probe senkrecht zum magnetfeld\n",
      "U1_ohneprobe = 83*mV\n",
      "U1_mitprobe = 0.97*V"
     ],
     "language": "python",
     "metadata": {},
     "outputs": [],
     "prompt_number": ""
    },
    {
     "cell_type": "code",
     "collapsed": false,
     "input": [
      "# geometrie 2: probe parallel zum magnetfeld\n",
      "U2_ohneprobe = 70*mV\n",
      "U2_mitprobe = 1.62*V"
     ],
     "language": "python",
     "metadata": {},
     "outputs": [],
     "prompt_number": ""
    },
    {
     "cell_type": "code",
     "collapsed": false,
     "input": [
      "# 2 a) Terbium\n",
      "# - zuerst Nullfeld ohne Aufmagnetisierung\n",
      "# - dann Nullfeld mit Aufmagnetisierung bei tiefer Temperatur\n",
      "# - Fehler: Magnetfeld zu hoch\n",
      "# - I_spule = 1.168 * A\n",
      "# - Messung mit Feldgek\u00fchlter Probe bei 150 Gauss -> I_Spule = 153 mA +- 2mA"
     ],
     "language": "python",
     "metadata": {},
     "outputs": []
    },
    {
     "cell_type": "code",
     "collapsed": false,
     "input": [
      "# Auswertung von Messdaten\n",
      "plt.figure(2,[9,6])\n",
      "temperatures, voltages = [], []\n",
      "infile = open(\"terbium1_nullfeldgekuehlt_ohne_magnetisierung_senkrecht.dat\")\n",
      "for line in infile:\n",
      "     if line.strip()[0] != \"#\":\n",
      "            temperatures.append(line.strip().split(\"\\t\")[0])\n",
      "            voltages.append(line.strip().split(\"\\t\")[1])\n",
      "plt.plot(temperatures, voltages,\"b.\")\n"
     ],
     "language": "python",
     "metadata": {},
     "outputs": [],
     "prompt_number": ""
    },
    {
     "cell_type": "code",
     "collapsed": false,
     "input": [
      "# Auswertung von Messdaten\n",
      "plt.figure(3, [9,6])\n",
      "plt.ylim(-0.5,0.1)\n",
      "temperatures, voltages = [], []\n",
      "infile = open(\"terbium2_nullfeldgekuehlt_mit_magnetisierung_senkrecht.dat\")\n",
      "for line in infile:\n",
      "     if line.strip()[0] != \"#\":\n",
      "            temperatures.append(line.strip().split(\"\\t\")[0])\n",
      "            voltages.append(line.strip().split(\"\\t\")[1])\n",
      "plt.plot(temperatures, voltages,\"b.\")\n"
     ],
     "language": "python",
     "metadata": {},
     "outputs": [],
     "prompt_number": ""
    },
    {
     "cell_type": "code",
     "collapsed": false,
     "input": [
      "plt.figure(3, [9,6])\n",
      "plt.grid()\n",
      "plt.ylim(-8,8)\n",
      "temperatures, voltages = [], []\n",
      "infile = open(\"terbium3_feldgekuehlt.dat\")\n",
      "for line in infile:\n",
      "     if line.strip()[0] != \"#\":\n",
      "            temperatures.append(line.strip().split(\"\\t\")[0])\n",
      "            voltages.append(line.strip().split(\"\\t\")[1])\n",
      "temperatures, voltages = np.array(temperatures,dtype=float), np.array(voltages,dtype=float)\n",
      "voltages = voltages+5.95*(temperatures>193)*(temperatures<215)\n",
      "voltages = voltages-0.515*(temperatures>220)*(temperatures<235)\n",
      "plt.plot(temperatures, voltages,\"b.\")"
     ],
     "language": "python",
     "metadata": {},
     "outputs": [],
     "prompt_number": ""
    },
    {
     "cell_type": "code",
     "collapsed": false,
     "input": [
      "plt.figure(3, [9,6])\n",
      "plt.grid()\n",
      "#plt.ylim(-8,8)\n",
      "temperatures, voltages = [], []\n",
      "infile = open(\"terbium4_parallel2b1.dat\")\n",
      "for line in infile:\n",
      "     if line.strip()[0] != \"#\":\n",
      "            temperatures.append(line.strip().split(\"\\t\")[0])\n",
      "            voltages.append(line.strip().split(\"\\t\")[1])\n",
      "temperatures, voltages = np.array(temperatures,dtype=float), np.array(voltages,dtype=float)\n",
      "#temperatures>93\n",
      "plt.plot(temperatures, voltages,\"b.\")"
     ],
     "language": "python",
     "metadata": {},
     "outputs": [],
     "prompt_number": ""
    },
    {
     "cell_type": "code",
     "collapsed": false,
     "input": [
      "plt.figure(3, [9,6])\n",
      "plt.grid()\n",
      "#plt.ylim(-8,8)\n",
      "temperatures, voltages = [], []\n",
      "infile = open(\"terbium5_parallel2b2.dat\")\n",
      "for line in infile:\n",
      "     if line.strip()[0] != \"#\":\n",
      "            temperatures.append(line.strip().split(\"\\t\")[0])\n",
      "            voltages.append(line.strip().split(\"\\t\")[1])\n",
      "temperatures, voltages = np.array(temperatures,dtype=float), np.array(voltages,dtype=float)\n",
      "plt.plot(temperatures, voltages,\"b.\")"
     ],
     "language": "python",
     "metadata": {},
     "outputs": [],
     "prompt_number": ""
    },
    {
     "cell_type": "code",
     "collapsed": false,
     "input": [
      "plt.figure(3, [9,6])\n",
      "plt.grid()\n",
      "#plt.ylim(-8,8)\n",
      "temperatures, voltages = [], []\n",
      "infile = open(\"terbium6_parallel2b3.dat\")\n",
      "for line in infile:\n",
      "     if line.strip()[0] != \"#\":\n",
      "            temperatures.append(line.strip().split(\"\\t\")[0])\n",
      "            voltages.append(line.strip().split(\"\\t\")[1])\n",
      "temperatures, voltages = np.array(temperatures,dtype=float), np.array(voltages,dtype=float)\n",
      "plt.plot(temperatures, voltages,\"b.\")"
     ],
     "language": "python",
     "metadata": {},
     "outputs": [],
     "prompt_number": ""
    },
    {
     "cell_type": "code",
     "collapsed": false,
     "input": [
      "scipy.smooth([1,2,3])"
     ],
     "language": "python",
     "metadata": {},
     "outputs": [],
     "prompt_number": ""
    },
    {
     "cell_type": "code",
     "collapsed": false,
     "input": [],
     "language": "python",
     "metadata": {},
     "outputs": [],
     "prompt_number": ""
    },
    {
     "cell_type": "code",
     "collapsed": false,
     "input": [],
     "language": "python",
     "metadata": {},
     "outputs": [],
     "prompt_number": ""
    },
    {
     "cell_type": "code",
     "collapsed": false,
     "input": [],
     "language": "python",
     "metadata": {},
     "outputs": []
    }
   ],
   "metadata": {}
  }
 ]
}