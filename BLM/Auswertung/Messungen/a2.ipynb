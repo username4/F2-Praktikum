{
 "metadata": {
  "name": "",
  "signature": "sha256:9dd208ddfc82de5a8b021118ad07696bb1bc0dd52b6af143faab489a15b675d4"
 },
 "nbformat": 3,
 "nbformat_minor": 0,
 "worksheets": [
  {
   "cells": [
    {
     "cell_type": "code",
     "collapsed": false,
     "input": [
      "# notebook fuer aufgabe 2\n",
      "# berechne strom durch einzelnen gramicidin A kanal\n",
      "# lese dafuer peaks aus \"einkanal_gruppe24_hist.png\" ab"
     ],
     "language": "python",
     "metadata": {},
     "outputs": [],
     "prompt_number": ""
    },
    {
     "cell_type": "code",
     "collapsed": false,
     "input": [
      "%pylab inline\n",
      "import matplotlib.pyplot as plt\n",
      "import numpy as np\n",
      "import scipy.optimize as opt"
     ],
     "language": "python",
     "metadata": {},
     "outputs": [],
     "prompt_number": ""
    },
    {
     "cell_type": "code",
     "collapsed": false,
     "input": [
      "# daten, abgelesen aus histogramm\n",
      "currents = np.array([2.8,4.4,6.1,7.8]) # position of peaks in histogram, corresponding to currents of different channel numbers\n",
      "numbchannels = np.array([1,2,3,4]) # number of corresponding gramicidin A channels"
     ],
     "language": "python",
     "metadata": {},
     "outputs": [],
     "prompt_number": ""
    },
    {
     "cell_type": "code",
     "collapsed": false,
     "input": [
      "# definition der fitfunktion\n",
      "def linfkt(x,m,b): return m*x+b"
     ],
     "language": "python",
     "metadata": {},
     "outputs": [],
     "prompt_number": ""
    },
    {
     "cell_type": "code",
     "collapsed": false,
     "input": [
      "plt.figure(1, [6,4])\n",
      "plt.axis([0,5,0,10])\n",
      "plt.ylabel(\"Strom (pA)\")\n",
      "plt.xlabel(\"Zahl der Gramicidin-A-Kanaele\")\n",
      "plt.plot(numbchannels, currents,\"bo\", label=\"Aus Histogramm abgelesene\\nMesswerte fuer Peaks\")\n",
      "\n",
      "popt, pcov = opt.curve_fit(linfkt, numbchannels, currents)\n",
      "m, b = popt[0], popt[1]\n",
      "merr, berr = pcov[0,0], pcov[1,1]\n",
      "x = np.linspace(0,10,100)\n",
      "plt.plot(x,linfkt(x,m,b),\"r\",label=\"linearer Fit\")\n",
      "\n",
      "plt.legend(loc=\"lower right\")\n",
      "plt.text(0.5,7,\"Einkanalstrom: \"+str(np.round(m,2))+\" pA\",fontsize=12)\n",
      "print \"Einkanalstrom: (\",m, \"+-\", np.round(merr,4), \") pA\"\n",
      "plt.show()\n",
      "plt.savefig(\"a2_linfit.pdf\")"
     ],
     "language": "python",
     "metadata": {},
     "outputs": [],
     "prompt_number": ""
    },
    {
     "cell_type": "code",
     "collapsed": false,
     "input": [],
     "language": "python",
     "metadata": {},
     "outputs": [],
     "prompt_number": ""
    },
    {
     "cell_type": "code",
     "collapsed": false,
     "input": [],
     "language": "python",
     "metadata": {},
     "outputs": []
    },
    {
     "cell_type": "code",
     "collapsed": false,
     "input": [],
     "language": "python",
     "metadata": {},
     "outputs": []
    }
   ],
   "metadata": {}
  }
 ]
}